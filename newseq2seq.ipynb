{
 "cells": [
  {
   "cell_type": "code",
   "execution_count": 3,
   "metadata": {},
   "outputs": [
    {
     "name": "stderr",
     "output_type": "stream",
     "text": [
      "/home/prayash/.local/lib/python3.10/site-packages/tqdm/auto.py:22: TqdmWarning: IProgress not found. Please update jupyter and ipywidgets. See https://ipywidgets.readthedocs.io/en/stable/user_install.html\n",
      "  from .autonotebook import tqdm as notebook_tqdm\n"
     ]
    }
   ],
   "source": [
    "import torch\n",
    "import torch.nn as nn\n",
    "import torch.optim as optim\n",
    "\n",
    "import spacy\n",
    "import numpy as np\n",
    "\n",
    "import random\n",
    "import math\n",
    "import time\n",
    "\n",
    "from torchtext.datasets import TranslationDataset, Multi30k\n",
    "from torchtext.data import Field, BucketIterator"
   ]
  },
  {
   "cell_type": "code",
   "execution_count": 4,
   "metadata": {},
   "outputs": [],
   "source": [
    "spacy_german =  spacy.load('de_core_news_sm')\n",
    "spacy_english = spacy.load('en_core_web_sm')\n",
    "\n"
   ]
  },
  {
   "cell_type": "code",
   "execution_count": 5,
   "metadata": {},
   "outputs": [],
   "source": [
    "def tokenize_german(text):\n",
    "    return [token.text  for token in  spacy_german.tokenizer(text)]\n",
    "\n",
    "def tokenize_english(text):\n",
    "    return [token.text for token in  spacy_english.tokenizer(text)]\n",
    "\n"
   ]
  },
  {
   "cell_type": "code",
   "execution_count": 6,
   "metadata": {},
   "outputs": [],
   "source": [
    "SOURCE = Field(tokenize = tokenize_english,\n",
    "                init_token = '<sos>',\n",
    "                eos_token = '<eos>',\n",
    "                lower = True \n",
    "                )\n",
    "\n",
    "TARGET = Field(tokenize = tokenize_german, \n",
    "\n",
    "                init_token='<sos>',\n",
    "                eos_token='<eos>',\n",
    "                lower = True\n",
    "                )"
   ]
  },
  {
   "cell_type": "code",
   "execution_count": 7,
   "metadata": {},
   "outputs": [],
   "source": [
    "train_data , valid_data , test_data = Multi30k.splits(exts={'.en','.de'}, fields = (SOURCE, TARGET))"
   ]
  },
  {
   "cell_type": "code",
   "execution_count": 8,
   "metadata": {},
   "outputs": [
    {
     "data": {
      "text/plain": [
       "['zwei',\n",
       " 'junge',\n",
       " 'weiße',\n",
       " 'männer',\n",
       " 'sind',\n",
       " 'i',\n",
       " 'm',\n",
       " 'freien',\n",
       " 'in',\n",
       " 'der',\n",
       " 'nähe',\n",
       " 'vieler',\n",
       " 'büsche',\n",
       " '.']"
      ]
     },
     "execution_count": 8,
     "metadata": {},
     "output_type": "execute_result"
    }
   ],
   "source": [
    "train_data.examples[0].src"
   ]
  },
  {
   "cell_type": "code",
   "execution_count": 9,
   "metadata": {},
   "outputs": [],
   "source": [
    "SOURCE.build_vocab(train_data, min_freq=2 )\n",
    "TARGET.build_vocab(train_data,min_freq = 2)"
   ]
  },
  {
   "cell_type": "code",
   "execution_count": 10,
   "metadata": {},
   "outputs": [
    {
     "name": "stdout",
     "output_type": "stream",
     "text": [
      "English (Source) Vocabulary Size: 7874\n",
      "German (Target) Vocabulary Size: 5972\n"
     ]
    }
   ],
   "source": [
    "print(\"English (Source) Vocabulary Size: \" + str(len(SOURCE.vocab)))\n",
    "print(\"German (Target) Vocabulary Size: \" + str(len(TARGET.vocab)))\n"
   ]
  },
  {
   "cell_type": "code",
   "execution_count": 11,
   "metadata": {},
   "outputs": [],
   "source": [
    "device = torch.device('cuda' if torch.cuda.is_available() else 'cpu')\n",
    "\n",
    "batch_size =32\n",
    "\n",
    "train_iterator ,valid_iterator , test_iterator = BucketIterator.splits(\n",
    "    (train_data, valid_data, test_data),\n",
    "    batch_size = batch_size,\n",
    "    device = device\n",
    ")\n"
   ]
  },
  {
   "cell_type": "code",
   "execution_count": null,
   "metadata": {},
   "outputs": [],
   "source": []
  },
  {
   "cell_type": "code",
   "execution_count": 12,
   "metadata": {},
   "outputs": [],
   "source": [
    "class Encoder(nn.Module):\n",
    "    def __init__(self, input_dims, emb_dims, hid_dims, n_layers, dropout):\n",
    "        super().__init__()\n",
    "\n",
    "        self.hid_dims = hid_dims\n",
    "        self.n_layers = n_layers\n",
    "\n",
    "        self.embedding = nn.Embedding(input_dims, emb_dims)\n",
    "        self.rnn =  nn.LSTM(emb_dims, hid_dims, n_layers, dropout= dropout)\n",
    "        self.dropout = nn.Dropout(dropout)\n",
    "\n",
    "\n",
    "    def forward(self, src):\n",
    "        embedded = self.dropout(self.embedding(src))\n",
    "        outputs, (h,cell) = self.rnn(embedded)\n",
    "        return h, cell\n",
    "        "
   ]
  },
  {
   "cell_type": "code",
   "execution_count": 13,
   "metadata": {},
   "outputs": [],
   "source": [
    "class Decoder(nn.Module):\n",
    "    def __init__(self, output_dims, emb_dims, hid_dims, n_layers, dropout):\n",
    "        super().__init__()\n",
    "\n",
    "        self.output_dims = output_dims\n",
    "        self.hid_dims  = hid_dims\n",
    "        self.n_layers = n_layers\n",
    "\n",
    "        self.embedding = nn.Embedding(output_dims, emb_dims)\n",
    "        self.rnn = nn.LSTM(emb_dims, hid_dims, n_layers , dropout = dropout)\n",
    "\n",
    "        self.fc_out = nn.Linear(hid_dims, output_dims)\n",
    "        self.dropout = nn.Dropout(dropout)\n",
    "\n",
    "\n",
    "    def forward(self, input, h, cell):\n",
    "        input = input.unsqueeze(0)\n",
    "        embedded = self.dropout(self.embedding(input))\n",
    "        output ,(h,cell) = self.rnn(embedded, (h,cell))\n",
    "        pred = self.fc_out(output.squeeze(0))\n",
    "        return pred , h,cell"
   ]
  },
  {
   "cell_type": "code",
   "execution_count": 21,
   "metadata": {},
   "outputs": [],
   "source": [
    "class Seq2Seq(nn.Module):\n",
    "    def __init__(self, encoder, decoder, device ):\n",
    "        super().__init__()\n",
    "\n",
    "        self.encoder = encoder\n",
    "        self.decoder = decoder\n",
    "        self.device = device\n",
    "\n",
    "    def forward(self, src, trg,teacher_forcing_rate =0.5):\n",
    "\n",
    "        batch_size = trg.shape[1]\n",
    "        target_length = trg.shape[0]\n",
    "        target_vocab_size = self.decoder.output_dims\n",
    "\n",
    "        outputs = torch.zeros(target_length, batch_size, target_vocab_size).to(self.device)\n",
    "        h, cell = self.encoder(src)\n",
    "        input = trg[0,:]\n",
    "        for t in range (1, target_length):\n",
    "            output, h ,cell = self.decoder(input, h,cell)\n",
    "            outputs[t] = output\n",
    "            top = output.argmax(1)\n",
    "            input = trg[t] if (random.random() < teacher_forcing_rate) else top\n",
    "\n",
    "        return outputs\n",
    "        \n",
    "\n"
   ]
  },
  {
   "cell_type": "code",
   "execution_count": 22,
   "metadata": {},
   "outputs": [],
   "source": [
    "input_dimensions = len(SOURCE.vocab)\n",
    "output_dimensions = len(TARGET.vocab)\n",
    "encoder_embedding_dimensions = 256\n",
    "decoder_embedding_dimensions = 256\n",
    "hidden_layer_dimensions = 512\n",
    "number_of_layers = 2\n",
    "encoder_dropout = 0.5\n",
    "decoder_dropout = 0.5\n",
    "\n",
    "encod = Encoder(input_dimensions, encoder_embedding_dimensions, hidden_layer_dimensions, number_of_layers, encoder_dropout)\n",
    "\n",
    "decod = Decoder(output_dimensions, decoder_embedding_dimensions, hidden_layer_dimensions,number_of_layers, decoder_dropout )\n",
    "\n",
    "model = Seq2Seq(encod, decod, device).to(device)\n",
    "\n",
    "\n"
   ]
  },
  {
   "cell_type": "code",
   "execution_count": 23,
   "metadata": {},
   "outputs": [
    {
     "data": {
      "text/plain": [
       "Seq2Seq(\n",
       "  (encoder): Encoder(\n",
       "    (embedding): Embedding(7874, 256)\n",
       "    (rnn): LSTM(256, 512, num_layers=2, dropout=0.5)\n",
       "    (dropout): Dropout(p=0.5, inplace=False)\n",
       "  )\n",
       "  (decoder): Decoder(\n",
       "    (embedding): Embedding(5972, 256)\n",
       "    (rnn): LSTM(256, 512, num_layers=2, dropout=0.5)\n",
       "    (fc_out): Linear(in_features=512, out_features=5972, bias=True)\n",
       "    (dropout): Dropout(p=0.5, inplace=False)\n",
       "  )\n",
       ")"
      ]
     },
     "execution_count": 23,
     "metadata": {},
     "output_type": "execute_result"
    }
   ],
   "source": [
    "def initialize_weights(m):\n",
    "    for name, param in m.named_parameters():\n",
    "        nn.init.uniform_(param.data, -0.1, 0.1)\n",
    "        \n",
    "model.apply(initialize_weights)"
   ]
  },
  {
   "cell_type": "code",
   "execution_count": 24,
   "metadata": {},
   "outputs": [],
   "source": [
    "optimizer = optim.Adam(model.parameters())\n",
    "criterion = nn.CrossEntropyLoss(ignore_index= TARGET.vocab.stoi[TARGET.pad_token])\n"
   ]
  },
  {
   "cell_type": "code",
   "execution_count": 25,
   "metadata": {},
   "outputs": [],
   "source": [
    "def train( model, iterator, optimizer , criterion, clip ):\n",
    "    model.train()\n",
    "\n",
    "    epoch_loss = 0\n",
    "\n",
    "    for i , batch in enumerate(iterator):\n",
    "        src = batch.src\n",
    "        trg = batch.trg\n",
    "        optimizer.zero_grad()\n",
    "        output = model(src, trg)\n",
    "        output_dims = output.shape[-1]\n",
    "        output = output[1:].view(-1,output_dims)\n",
    "        trg= trg[1:].view(-1)\n",
    "        loss = criterion(output,trg)\n",
    "        loss.backward()\n",
    "        torch.nn.utils.clip_grad_norm_(model.parameters(), clip)\n",
    "        \n",
    "        optimizer.step()\n",
    "        \n",
    "        epoch_loss += loss.item()\n",
    "        \n",
    "    return epoch_loss / len(iterator)\n",
    "\n",
    "        "
   ]
  },
  {
   "cell_type": "code",
   "execution_count": 26,
   "metadata": {},
   "outputs": [],
   "source": [
    "def evaluate(model, iterator , criterion):\n",
    "    model.eval()\n",
    "    epoch_loss =0 \n",
    "    with torch.no_grad():\n",
    "        for i, batch in enumerate(iterator):\n",
    "            src = batch.src\n",
    "            trg = batch.trg\n",
    "\n",
    "            output = model(src, trg,0)\n",
    "\n",
    "            output_dim = output.shape[-1]\n",
    "            output = output[1:].view(-1, output_dim)\n",
    "\n",
    "            trg = trg[1:].view(-1)\n",
    "            loss = criterion(output,trg)\n",
    "            epoch_loss += loss.item()\n",
    "\n",
    "    return epoch_loss/ len(iterator)\n",
    "    "
   ]
  },
  {
   "cell_type": "code",
   "execution_count": 27,
   "metadata": {},
   "outputs": [
    {
     "name": "stdout",
     "output_type": "stream",
     "text": [
      "Epoch:01 | Time : 801.0s\n",
      "\t train loss: 4.5648\n",
      "\t val loss: 4.3993\n",
      "Epoch:02 | Time : 760.0s\n",
      "\t train loss: 3.8672\n",
      "\t val loss: 4.1499\n",
      "Epoch:03 | Time : 700.0s\n",
      "\t train loss: 3.5723\n",
      "\t val loss: 3.9506\n",
      "Epoch:04 | Time : 673.0s\n",
      "\t train loss: 3.3399\n",
      "\t val loss: 3.7692\n",
      "Epoch:05 | Time : 661.0s\n",
      "\t train loss: 3.1289\n",
      "\t val loss: 3.7095\n",
      "Epoch:06 | Time : 665.0s\n",
      "\t train loss: 2.9551\n",
      "\t val loss: 3.6549\n",
      "Epoch:07 | Time : 1673.0s\n",
      "\t train loss: 2.8046\n",
      "\t val loss: 3.5621\n",
      "Epoch:08 | Time : 1667.0s\n",
      "\t train loss: 2.6857\n",
      "\t val loss: 3.5728\n",
      "Epoch:09 | Time : 1620.0s\n",
      "\t train loss: 2.5563\n",
      "\t val loss: 3.5683\n",
      "Epoch:10 | Time : 1638.0s\n",
      "\t train loss: 2.4491\n",
      "\t val loss: 3.5842\n"
     ]
    }
   ],
   "source": [
    "epochs = 10 \n",
    "grad_clip = 1\n",
    "\n",
    "lowest_validation_loss = float('inf')\n",
    "for epoch in range(epochs):\n",
    "    start_time = time.time()\n",
    "\n",
    "    train_loss = train(model, train_iterator, optimizer, criterion, grad_clip)\n",
    "\n",
    "    valid_loss = evaluate(model, valid_iterator, criterion)\n",
    "\n",
    "    end_time = time.time()\n",
    "\n",
    "    if valid_loss < lowest_validation_loss:\n",
    "        lowest_validation_loss = valid_loss\n",
    "        torch.save(model.state_dict(),'seq2seq.pt')\n",
    "\n",
    "    print(f'Epoch:{epoch+1:02} | Time : {np.round(end_time-start_time,0)}s')\n",
    "    print(f'\\t train loss: {train_loss:.4f}')\n",
    "    print(f'\\t val loss: {valid_loss:.4f}')"
   ]
  },
  {
   "cell_type": "code",
   "execution_count": 28,
   "metadata": {},
   "outputs": [
    {
     "name": "stdout",
     "output_type": "stream",
     "text": [
      "Test Loss:3.6110\n"
     ]
    }
   ],
   "source": [
    "model.load_state_dict(torch.load('seq2seq.pt'))\n",
    "test_loss = evaluate(model, test_iterator, criterion)\n",
    "print(f'Test Loss:{test_loss:.4f}')"
   ]
  },
  {
   "cell_type": "code",
   "execution_count": 29,
   "metadata": {},
   "outputs": [],
   "source": [
    "def translate(model, iterator, limit=4):\n",
    "    model.eval()\n",
    "    epoch_loss =0\n",
    "    with torch.no_grad():\n",
    "        for i, batch in enumerate(iterator):\n",
    "            if  i < limit:\n",
    "                src = batch.src\n",
    "                trg = batch.trg\n",
    "\n",
    "                output = model(src, trg, 0)\n",
    "                preds = torch.tensor([[torch.argmax(x).item()] for x in output])\n",
    "                \n",
    "                print('English Input: ' + str([SOURCE.vocab.itos[x] for x in src][1:-1][::-1]))\n",
    "                print('Correct German Output: ' + str([TARGET.vocab.itos[x] for x in trg][1:-1]))\n",
    "                print('Predicted German Output: ' + str([TARGET.vocab.itos[x] for x in preds][1:-1]))\n",
    "                print('\\n')"
   ]
  },
  {
   "cell_type": "code",
   "execution_count": 30,
   "metadata": {},
   "outputs": [],
   "source": [
    "_ , _ , eval_iterator= BucketIterator.splits(\n",
    "        (train_data ,  valid_data , test_data),batch_size = 1, \n",
    "        device = device\n",
    "    )"
   ]
  },
  {
   "cell_type": "code",
   "execution_count": 31,
   "metadata": {},
   "outputs": [
    {
     "name": "stdout",
     "output_type": "stream",
     "text": [
      "English Input: ['.', 'mützen', 'mit', 'männer', 'zwei']\n",
      "Correct German Output: ['two', 'men', 'wearing', 'hats', '.']\n",
      "Predicted German Output: ['man', 'in', 'a', 'yellow', 'shirt']\n",
      "\n",
      "\n",
      "English Input: ['felswand', 'auf', 'klettert', 'frau', 'junge']\n",
      "Correct German Output: ['young', 'woman', 'climbing', 'rock', 'face']\n",
      "Predicted German Output: ['young', 'woman', 'on', 'a', 'bicycle']\n",
      "\n",
      "\n",
      "English Input: ['.', 'volleyball', 'spielt', 'frau', 'eine']\n",
      "Correct German Output: ['a', 'woman', 'is', 'playing', 'volleyball', '.']\n",
      "Predicted German Output: ['a', 'woman', 'playing', 'playing', 'the', '.']\n",
      "\n",
      "\n",
      "English Input: ['.', 'bergauf', 'gehen', 'männer', 'drei']\n",
      "Correct German Output: ['three', 'men', 'are', 'walking', 'up', 'hill', '.']\n",
      "Predicted German Output: ['men', 'are', 'walking', 'together', '.', '<eos>', '<eos>']\n",
      "\n",
      "\n"
     ]
    }
   ],
   "source": [
    "output = translate(model, eval_iterator)\n"
   ]
  },
  {
   "cell_type": "code",
   "execution_count": null,
   "metadata": {},
   "outputs": [],
   "source": []
  }
 ],
 "metadata": {
  "kernelspec": {
   "display_name": "Python 3.10.6 64-bit",
   "language": "python",
   "name": "python3"
  },
  "language_info": {
   "codemirror_mode": {
    "name": "ipython",
    "version": 3
   },
   "file_extension": ".py",
   "mimetype": "text/x-python",
   "name": "python",
   "nbconvert_exporter": "python",
   "pygments_lexer": "ipython3",
   "version": "3.10.6"
  },
  "orig_nbformat": 4,
  "vscode": {
   "interpreter": {
    "hash": "916dbcbb3f70747c44a77c7bcd40155683ae19c65e1c03b4aa3499c5328201f1"
   }
  }
 },
 "nbformat": 4,
 "nbformat_minor": 2
}
